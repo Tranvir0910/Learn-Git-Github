{
 "cells": [
  {
   "cell_type": "markdown",
   "metadata": {},
   "source": [
    "## **diff and patch Cheat Sheet**\n"
   ]
  },
  {
   "cell_type": "markdown",
   "metadata": {},
   "source": [
    "### **diff**"
   ]
  },
  {
   "cell_type": "markdown",
   "metadata": {},
   "source": [
    "diff is used to find differences between two files. On its own, it’s a bit hard to use; instead, use it with diff -u to find lines which differ in two files:"
   ]
  },
  {
   "cell_type": "markdown",
   "metadata": {},
   "source": [
    "Diff được sử dụng để tìm sự khác biệt giữa hai tệp.Theo cách riêng của nó, nó có một chút khó sử dụng;Thay vào đó, hãy sử dụng nó với Diff -u để tìm các dòng khác nhau trong hai tệp"
   ]
  },
  {
   "cell_type": "markdown",
   "metadata": {},
   "source": [
    "### **diff -u**\n"
   ]
  },
  {
   "cell_type": "markdown",
   "metadata": {},
   "source": [
    "diff -u is used to compare two files, line by line, and have the differing lines compared side-by-side in the same output. See below:"
   ]
  },
  {
   "cell_type": "markdown",
   "metadata": {},
   "source": [
    "Diff -u được sử dụng để so sánh hai tệp, từng dòng và có các dòng khác nhau được so sánh từng bên trong cùng một đầu ra.Xem bên dưới:"
   ]
  },
  {
   "cell_type": "code",
   "execution_count": null,
   "metadata": {
    "vscode": {
     "languageId": "latex"
    }
   },
   "outputs": [],
   "source": [
    "~$ cat menu1.txt \n",
    "Menu1:\n",
    "\n",
    "Apples\n",
    "Bananas\n",
    "Oranges\n",
    "Pears\n",
    "\n",
    "~$ cat menu2.txt \n",
    "Menu:\n",
    "\n",
    "Apples\n",
    "Bananas\n",
    "Grapes\n",
    "Strawberries\n",
    "\n",
    "~$ diff -u menu1.txt menu2.txt \n",
    "--- menu1.txt   2019-12-16 18:46:13.794879924 +0900\n",
    "+++ menu2.txt   2019-12-16 18:46:42.090995670 +0900\n",
    "@@ -1,6 +1,6 @@\n",
    "-Menu1:\n",
    "+Menu:\n",
    " \n",
    " Apples\n",
    " Bananas\n",
    "-Oranges\n",
    "-Pears\n",
    "+Grapes\n",
    "+Strawberries"
   ]
  },
  {
   "cell_type": "markdown",
   "metadata": {},
   "source": [
    "### **Patch**"
   ]
  },
  {
   "cell_type": "markdown",
   "metadata": {},
   "source": [
    "Patch is useful for applying file differences. See the below example, which compares two files. The comparison is saved as a .diff file, which is then patched to the original file!"
   ]
  },
  {
   "cell_type": "markdown",
   "metadata": {},
   "source": [
    "Patch là hữu ích để áp dụng sự khác biệt về tệp. Xem ví dụ dưới đây, so sánh hai tệp. Việc so sánh được lưu dưới dạng tệp .diff, sau đó patched vào tệp gốc!"
   ]
  },
  {
   "cell_type": "code",
   "execution_count": null,
   "metadata": {
    "vscode": {
     "languageId": "latex"
    }
   },
   "outputs": [],
   "source": [
    "~$ cat hello_world.txt \n",
    "Hello World\n",
    "~$ cat hello_world_long.txt \n",
    "Hello World\n",
    "\n",
    "It's a wonderful day!\n",
    "~$ diff -u hello_world.txt hello_world_long.txt \n",
    "--- hello_world.txt     2019-12-16 19:24:12.556102821 +0900\n",
    "+++ hello_world_long.txt        2019-12-16 19:24:38.944207773 +0900\n",
    "@@ -1 +1,3 @@\n",
    " Hello World\n",
    "+\n",
    "+It's a wonderful day!\n",
    "~$ diff -u hello_world.txt hello_world_long.txt > hello_world.diff\n",
    "~$ patch hello_world.txt < hello_world.diff \n",
    "patching file hello_world.txt\n",
    "~$ cat hello_world.txt \n",
    "Hello World\n",
    "\n",
    "It's a wonderful day!"
   ]
  }
 ],
 "metadata": {
  "language_info": {
   "name": "python"
  },
  "orig_nbformat": 4
 },
 "nbformat": 4,
 "nbformat_minor": 2
}
